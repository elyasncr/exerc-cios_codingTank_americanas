{
  "nbformat": 4,
  "nbformat_minor": 0,
  "metadata": {
    "colab": {
      "provenance": [],
      "authorship_tag": "ABX9TyPKYQlsGAn+XN+QhO7KsC9R",
      "include_colab_link": true
    },
    "kernelspec": {
      "name": "python3",
      "display_name": "Python 3"
    },
    "language_info": {
      "name": "python"
    }
  },
  "cells": [
    {
      "cell_type": "markdown",
      "metadata": {
        "id": "view-in-github",
        "colab_type": "text"
      },
      "source": [
        "<a href=\"https://colab.research.google.com/github/elyasncr/exerc-cios_codingTank_americanas/blob/main/aula_2_condicionais.ipynb\" target=\"_parent\"><img src=\"https://colab.research.google.com/assets/colab-badge.svg\" alt=\"Open In Colab\"/></a>"
      ]
    },
    {
      "cell_type": "markdown",
      "source": [
        "## Exercício 4 da aula passada:\n",
        "Refazendo o exercício através das condicionais.\n"
      ],
      "metadata": {
        "id": "J7HoKZ_cxDk6"
      }
    },
    {
      "cell_type": "code",
      "execution_count": null,
      "metadata": {
        "colab": {
          "base_uri": "https://localhost:8080/"
        },
        "id": "MuYWO9jpj6Y4",
        "outputId": "434c40fa-de8a-4b9b-83d4-a18d08c60e14"
      },
      "outputs": [
        {
          "output_type": "stream",
          "name": "stdout",
          "text": [
            "Digite o seu nome: Ely\n",
            "Digite o seu telefone: 0980\n",
            "O seu nome é: Ely \n",
            " seu telefone é: 980\n",
            "Suas infos estão corretas? (s/n)s\n",
            "Show, obrigado!!\n"
          ]
        }
      ],
      "source": [
        "nome = input(\"Digite o seu nome: \")\n",
        "tel = int(input(\"Digite o seu telefone: \"))\n",
        "\n",
        "\n",
        "print(f\"O seu nome é: {nome} \\n seu telefone é: {tel}\")\n",
        "\n",
        "verificacao = input(\"Suas infos estão corretas? (s/n)\")\n",
        "\n",
        "if (verificacao == \"n\"):\n",
        "  print(\"Faz de novo, seu trouxa!\")\n",
        "else:\n",
        "  print(\"Show, obrigado!!\")"
      ]
    },
    {
      "cell_type": "markdown",
      "source": [
        "# Exercício 1\n",
        "Escreva um programa que recebe um número e diz se este é par ou ímpar"
      ],
      "metadata": {
        "id": "Wl2WMLKUxDfh"
      }
    },
    {
      "cell_type": "code",
      "source": [
        "numero = int(input(\"digite o número: \"))\n",
        "\n",
        "if (numero % 2 == 0 ):\n",
        "  print(f\"O número {numero} é par\")\n",
        "else:\n",
        "  print(f\"O número {numero} é ímpar \")"
      ],
      "metadata": {
        "colab": {
          "base_uri": "https://localhost:8080/"
        },
        "id": "v3QCbJN_wcw4",
        "outputId": "f289065d-c811-45e0-d233-5889c7c08d1f"
      },
      "execution_count": null,
      "outputs": [
        {
          "output_type": "stream",
          "name": "stdout",
          "text": [
            "digite o número: 4\n",
            "O número 4 é par\n"
          ]
        }
      ]
    },
    {
      "cell_type": "markdown",
      "source": [
        "# Exercício 2\n"
      ],
      "metadata": {
        "id": "30g-wgEb4rkA"
      }
    },
    {
      "cell_type": "code",
      "source": [],
      "metadata": {
        "id": "PgKTPaCk4jes"
      },
      "execution_count": null,
      "outputs": []
    },
    {
      "cell_type": "markdown",
      "source": [
        "# Exercício 3\n",
        "Crie um programa que receba um número e imprima \"fuzz\" se o número for múltiplo de 3, \"buzz\" se deixar resto 1 na divisão por 3 e \"nada\" se deixar resto 2 na divisão por 3."
      ],
      "metadata": {
        "id": "0lsMwg8W5Fwt"
      }
    },
    {
      "cell_type": "code",
      "source": [
        "numero = int(input(\"Digite um número: \"))\n",
        "\n",
        "if (numero % 3 == 0):\n",
        "  print(\"fuzz\")\n",
        "elif (numero % 3 == 1 ):\n",
        "  print(\"buzz\")\n",
        "elif (numero % 3 == 2 ):\n",
        "  print(\"nada\")\n",
        "else: \n",
        "  print(\"é isso\")\n",
        "  "
      ],
      "metadata": {
        "colab": {
          "base_uri": "https://localhost:8080/"
        },
        "id": "58ZaLe2K5T4h",
        "outputId": "e696f4a2-dbc8-4d63-a53b-bce66eb618f7"
      },
      "execution_count": null,
      "outputs": [
        {
          "output_type": "stream",
          "name": "stdout",
          "text": [
            "Digite um número: 8\n",
            "nada\n"
          ]
        }
      ]
    },
    {
      "cell_type": "markdown",
      "source": [
        "# Exercício 5\n",
        "Crie um programa que recebe uma altura e retorna o que acha dela."
      ],
      "metadata": {
        "id": "U8pujdrY9bdU"
      }
    },
    {
      "cell_type": "code",
      "source": [
        "altura = float(input(\"Qual é a sua altura\"))\n",
        "\n",
        "if (altura <= 1.50):\n",
        "  print(\"Nanica\")\n",
        "elif (altura <= 1.70):\n",
        "  print(\"Hobbit\")\n",
        "elif (altura <= 1.90):\n",
        "  print(\"Gigante\")\n",
        "else:\n",
        "  print(\"vai jogar basquete, meu filho\")"
      ],
      "metadata": {
        "colab": {
          "base_uri": "https://localhost:8080/"
        },
        "id": "P_QyM5Iy6CF_",
        "outputId": "1b85c4d1-9c20-4882-d24e-2419267e663f"
      },
      "execution_count": null,
      "outputs": [
        {
          "output_type": "stream",
          "name": "stdout",
          "text": [
            "Qual é a sua altura1.91\n",
            "vai jogar basquete, meu filho\n"
          ]
        }
      ]
    },
    {
      "cell_type": "markdown",
      "source": [
        "# Exercício 6\n",
        "Crie um programa querecebe sua altura e peso, calcula o IMC e retorna um status (abaixo do peso, normal, acima do peso)."
      ],
      "metadata": {
        "id": "FgPyr83NrFx6"
      }
    },
    {
      "cell_type": "code",
      "source": [
        "altura = float(input(\"Digite a sua altura: \"))\n",
        "peso = float(input(\"Digite o seu peso: \"))\n",
        "\n",
        "imc = peso /(altura * altura)\n",
        "\n",
        "if ((imc > 18.5) and (imc < 24.9)):\n",
        "  print(f\"Você está no peso normal e o seu IMC é {imc}\")\n",
        "elif ((imc > 25.0) and (imc < 29.9)):\n",
        "  print(f\"Você está com excesso de peso e o seu IMC é {imc}\")\n",
        "elif ((imc > 30.0) and (imc < 34.9)):\n",
        "  print(f\"Você está na obesidade classe 1 e o seu IMC é {imc}\")\n",
        "elif ((imc > 35.0) and (imc < 39.9)):\n",
        "  print(f\"Você está na obesidade classe 2 e o seu IMC é {imc} \")\n",
        "else:\n",
        "  print(f\"Você está na obesidade classe 3 e o seu IMC é {imc}\")"
      ],
      "metadata": {
        "colab": {
          "base_uri": "https://localhost:8080/"
        },
        "id": "gfvUZtiHrGJV",
        "outputId": "cf16f8bf-0ad6-47f7-b855-f64749375263"
      },
      "execution_count": 6,
      "outputs": [
        {
          "output_type": "stream",
          "name": "stdout",
          "text": [
            "Digite a sua altura: 1.60\n",
            "Digite o seu peso: 70\n",
            "Você está com excesso de peso e o seu IMC é 27.343749999999996\n"
          ]
        }
      ]
    },
    {
      "cell_type": "markdown",
      "source": [
        "# Exercício 7: \n",
        "\n",
        "Você quer pintar sua casa e está em dúvida entre as cores Azul, Vermelho e Magenta. Sabendo que a tinta Azul custa 25,00 reais por metro quadrado, Vermelho custa 35,00 reais por metro quadrado e Magenta custa 45,00 reais por metro quadrado, faça o seguinte: \n",
        "\n",
        "a) Crie um programa que recebe metros quadrados da sua parede e a cor da tinta e então retorne quanto gastará com tinta.\n",
        "\n",
        "b) Crie um programa que recebe largura, altura, número de paredes e a cor da tinta escolhida e então retorne quanto gastará com tinta."
      ],
      "metadata": {
        "id": "5wSMtHHlurBf"
      }
    },
    {
      "cell_type": "code",
      "source": [
        "cor = input(\"Escolha uma cor: azul \\n vermelho \\n magenta \\n\").lower()\n",
        "metros = float(input(\"Digite quantos metros de tinta você deseja: \"))\n",
        "\n",
        "if (cor == \"azul\"):\n",
        "  azul = 25.00 * metros\n",
        "  print(f\"O valor em metros que você quer da cor azul é {azul}\")\n",
        "elif (cor == \"vermelho\"):\n",
        "  vermelho = 35.00 * metros\n",
        "  print(f\"O valor em metros que você deseja da cor vermelha é {vermelho} \")\n",
        "elif (cor == \"magenta\"):\n",
        "  magenta = 45 * metros\n",
        "  print(f\"O valor em metros que você deseja da cor magenta é {magenta}\")"
      ],
      "metadata": {
        "colab": {
          "base_uri": "https://localhost:8080/"
        },
        "id": "D2YwhYMquvFL",
        "outputId": "2f974ad4-555f-4520-86eb-6fbd91ed041b"
      },
      "execution_count": 8,
      "outputs": [
        {
          "output_type": "stream",
          "name": "stdout",
          "text": [
            "Escolha uma cor: azul \n",
            " vermelho \n",
            " magenta \n",
            "azul\n",
            "Digite quantos metros de tinta você deseja: 7\n",
            "O valor em metros que você quer da cor azul é 175.0\n"
          ]
        }
      ]
    },
    {
      "cell_type": "markdown",
      "source": [
        "# Exercício 8\n",
        "\n",
        "Faça um Programa que verifique se uma letra digitada é \"F\" ou \"M\". Conforme a letra escrever: F - Feminino, M - Masculino, Sexo Inválido."
      ],
      "metadata": {
        "id": "i_88bgQ_zaK_"
      }
    },
    {
      "cell_type": "code",
      "source": [
        "sexo = input(\"Digite o seu sexo: [F / M]\").lower()\n",
        "\n",
        "if (sexo == \"f\"):\n",
        "  print(\"Feminino\")\n",
        "elif(sexo == \"m\"):\n",
        "  print(\"Masculino\")\n",
        "else:\n",
        "  print(\"Sexo indefinido\")"
      ],
      "metadata": {
        "colab": {
          "base_uri": "https://localhost:8080/"
        },
        "id": "U7afATrFzydF",
        "outputId": "a0e7b9b1-d33c-434d-e89d-4b5ef6e06aad"
      },
      "execution_count": 10,
      "outputs": [
        {
          "output_type": "stream",
          "name": "stdout",
          "text": [
            "Digite o seu sexo: [F / M]a\n",
            "Sexo indefinido\n"
          ]
        }
      ]
    },
    {
      "cell_type": "markdown",
      "source": [
        "# Exercício 9\n",
        "\n",
        "Faça um programa para a leitura de duas notas parciais de um aluno. O programa deve calcular a média alcançada por aluno e apresentar:\n",
        "  - A mensagem \"Aprovado\", se a média alcançada for maior ou igual a sete;\n",
        "  - A mensagem \"Reprovado\", se a média for menor do que sete;\n",
        "  - A mensagem \"Aprovado com Distinção\", se a média for igual a dez.\n",
        "  "
      ],
      "metadata": {
        "id": "Vvkdj26X9cUD"
      }
    },
    {
      "cell_type": "code",
      "source": [
        "nota1 = float(input(\"Digite a nota 1 do aluno: \"))\n",
        "nota2 = float(input(\"Digite a nota 2 do aluno: \"))\n",
        "\n",
        "media = (nota1 + nota2)/2\n",
        "\n",
        "if (media > 7 and media < 10):\n",
        "  print(\"Aprovado\")\n",
        "elif (media < 7):\n",
        "  print(\"Reprovado\")\n",
        "elif (media >= 10):\n",
        "  print(\"Aprovado com Louvor, você é brabo!!!\")\n"
      ],
      "metadata": {
        "colab": {
          "base_uri": "https://localhost:8080/"
        },
        "id": "1F2M0Y-U9ckU",
        "outputId": "76bc9a0e-206a-47ae-f77c-1c86ce8e177e"
      },
      "execution_count": null,
      "outputs": [
        {
          "output_type": "stream",
          "name": "stdout",
          "text": [
            "Digite a nota 1 do aluno: 10\n",
            "Digite a nota 2 do aluno: 10\n",
            "Aprovado com Louvor, você é brabo!!!\n"
          ]
        }
      ]
    },
    {
      "cell_type": "markdown",
      "source": [
        "# Exercício 10\n",
        "\n",
        "Faça um Programa que leia três números e mostre-os em ordem decrescente."
      ],
      "metadata": {
        "id": "GUy2pC5kzSDZ"
      }
    },
    {
      "cell_type": "code",
      "source": [
        "a = int(input(\"digite um número: \"))\n",
        "b = int(input(\"digite um número: \"))\n",
        "c = int(input(\"digite um número: \"))\n",
        "\n",
        "if ((a>=b) and (a>=c)):\n",
        "  if (b>=c):\n",
        "    print(f\"A ordem decrescente é: a>b>c\")\n",
        "  else:\n",
        "    print(f\"A ordem decrescente é: a>c>b\")\n",
        "elif((b>=a) and (b>=c)):\n",
        "  if(a>=c):\n",
        "    print(f\"A ordem decrescente é: b>a>c\")\n",
        "  else:\n",
        "    print(f\"A ordem decrescente é: b>c>a \")\n",
        "elif((c>=a) and (c>=b)):\n",
        "  if(a>=b):\n",
        "    print(f\"A ordem decrescente é: c>a>b \")\n",
        "  else:\n",
        "    print(f\"A ordem decrescente é: c>b>a \")"
      ],
      "metadata": {
        "colab": {
          "base_uri": "https://localhost:8080/"
        },
        "id": "TcziczIBypPS",
        "outputId": "d034b779-a286-4e77-d72a-c93d76aba73c"
      },
      "execution_count": null,
      "outputs": [
        {
          "output_type": "stream",
          "name": "stdout",
          "text": [
            "digite um número: 3\n",
            "digite um número: 1\n",
            "digite um número: 2\n",
            "A ordem decrescente é: a>c>b\n"
          ]
        }
      ]
    },
    {
      "cell_type": "markdown",
      "source": [
        "# Exercício 11\n",
        "\n",
        "Faça um Programa que pergunte em que turno você estuda. Peça para digitar M-matutino ou V-Vespertino ou N- Noturno. Imprima a mensagem \"Bom Dia!\", \"Boa Tarde!\" ou \"Boa Noite!\" ou \"Valor Inválido!\", conforme o caso."
      ],
      "metadata": {
        "id": "H5jp_vE50kY-"
      }
    },
    {
      "cell_type": "code",
      "source": [
        "turno = input(\"Em qual turno você estuda? \\n M - matutino \\n V - verspertino \\n N - noturno \\n\").lower()\n",
        "\n",
        "if (turno == \"m\"):\n",
        "  print(\"Bom Dia!\")\n",
        "elif (turno == \"v\"):\n",
        "  print(\"Boa Tarde!\")\n",
        "elif (turno == \"n\"):\n",
        "  print(\"Boa Noite!\")\n",
        "else:\n",
        "  print(\"Valor inválido! você não estuda.\")"
      ],
      "metadata": {
        "colab": {
          "base_uri": "https://localhost:8080/"
        },
        "id": "ob-Zi75i0kqw",
        "outputId": "0361abfa-fab7-4893-9a80-7982ac01f67d"
      },
      "execution_count": 12,
      "outputs": [
        {
          "output_type": "stream",
          "name": "stdout",
          "text": [
            "Em qual turno você estuda? \n",
            " M - matutino \n",
            " V - verspertino \n",
            " N - noturno \n",
            "n\n",
            "Boa Noite!\n"
          ]
        }
      ]
    },
    {
      "cell_type": "markdown",
      "source": [
        "# Exercício 12\n",
        "\n",
        "Faça um Programa que leia um número e exiba o dia correspondente da semana. (1-Domingo, 2- Segunda, etc.), se digitar outro valor deve aparecer valor inválido."
      ],
      "metadata": {
        "id": "FfZAaPYB2UcY"
      }
    },
    {
      "cell_type": "code",
      "source": [
        "dia = int(input(\"Escolha um dia da semana: \\n 1 - domingo \\n 2 - segunda-feira \\n 3 - terça-feira \\n 4 - quarta-feira \\n 5 - quinta-feira \\n 6 - sexta-feita \\n 7 - Sábado \\n\"))\n",
        "if (dia == 1):\n",
        "  print(\"Domingo\")\n",
        "elif(dia == 2):\n",
        "  print(\"Segunda-feira\")\n",
        "elif(dia == 3):\n",
        "  print(\"Terça-feira\")\n",
        "elif(dia == 4):\n",
        "  print(\"Quarta-feira\")\n",
        "elif(dia == 5):\n",
        "  print(\"Quinta-feira\")\n",
        "elif(dia == 6):\n",
        "  print(\"Sexta-feira\")\n",
        "elif(dia == 7):\n",
        "  print(\"Sábado\")\n",
        "else:\n",
        "  print(\"Valor inválido\")"
      ],
      "metadata": {
        "colab": {
          "base_uri": "https://localhost:8080/"
        },
        "id": "rhujVnwM2Uyt",
        "outputId": "1fdc61d8-5cc5-4a14-f5bb-e43b3d2fa97b"
      },
      "execution_count": 14,
      "outputs": [
        {
          "output_type": "stream",
          "name": "stdout",
          "text": [
            "Escolha um dia da semana: \n",
            " 1 - domingo \n",
            " 2 - segunda-feira \n",
            " 3 - terça-feira \n",
            " 4 - quarta-feira \n",
            " 5 - quinta-feira \n",
            " 6 - sexta-feita \n",
            " 7 - Sábado6\n",
            "Sexta-feira\n"
          ]
        }
      ]
    },
    {
      "cell_type": "markdown",
      "source": [
        "# Exercício 14\n",
        "\n",
        "Faça um Programa que leia três números e mostre o maior deles."
      ],
      "metadata": {
        "id": "uSgwV6md6_Hf"
      }
    },
    {
      "cell_type": "code",
      "source": [
        "a = int(input(\"digite um número: \"))\n",
        "b = int(input(\"digite um número: \"))\n",
        "c = int(input(\"digite um número: \"))\n",
        "\n",
        "if ((a > b) and (a > c)):\n",
        "  print(f\"a = {a} é o maior número. \")\n",
        "elif ((b > a) and (b > c)):\n",
        "  print(f\"b = {b} é o maior número. \")\n",
        "elif ((c > a) and (c > b)):\n",
        "  print(f\"c = {c} é o maior número. \")\n",
        "else:\n",
        "  print(\"São todos iguais.\")"
      ],
      "metadata": {
        "colab": {
          "base_uri": "https://localhost:8080/"
        },
        "id": "VKnOci-f7ABN",
        "outputId": "00a38615-690e-4aa0-dad0-d8d05efd34d9"
      },
      "execution_count": 17,
      "outputs": [
        {
          "output_type": "stream",
          "name": "stdout",
          "text": [
            "digite um número: 2\n",
            "digite um número: 2\n",
            "digite um número: 2\n",
            "São todos iguais.\n"
          ]
        }
      ]
    },
    {
      "cell_type": "markdown",
      "source": [
        "# Exerício 15\n",
        "\n",
        "Faça um Programa que leia três números e mostre o maior e o menor deles."
      ],
      "metadata": {
        "id": "-LKqy5bh71vl"
      }
    },
    {
      "cell_type": "code",
      "source": [
        "a = int(input(\"digite um número: \"))\n",
        "b = int(input(\"digite um número: \"))\n",
        "c = int(input(\"digite um número: \"))\n",
        "\n",
        "if ((a > b) and (a > c)):\n",
        "  if (b > c):\n",
        "    print(f\"o maior número é o a = {a} e o menor é o c = {c}\")\n",
        "  else:\n",
        "    print(f\"o maior número é o a = {a} e o menor é o b = {b}\")\n",
        "elif((b > a) and (b > c)):\n",
        "  if(a > c):\n",
        "    print(f\"o maior número é o b = {b} e o menor é o c = {c}\")\n",
        "  else:\n",
        "    print(f\"o maior número é o b = {b} e o menor é o a = {a}\")\n",
        "elif((c > a) and (c > b)):\n",
        "  if(a > b):\n",
        "    print(f\"o maior número é o c = {c} e o menor é o b = {b}\")\n",
        "  else:\n",
        "    print(f\"o maior número é o c = {c} e o menor é o a = {a}\")"
      ],
      "metadata": {
        "colab": {
          "base_uri": "https://localhost:8080/"
        },
        "id": "w_8A4xrE72DW",
        "outputId": "50456ee2-d332-40e4-e403-e6ce7ec435b9"
      },
      "execution_count": 18,
      "outputs": [
        {
          "output_type": "stream",
          "name": "stdout",
          "text": [
            "digite um número: 1\n",
            "digite um número: 2\n",
            "digite um número: 3\n",
            "o maior número é o c = 3 e o menor é o a = 1\n"
          ]
        }
      ]
    },
    {
      "cell_type": "markdown",
      "source": [
        "# Exercício 16\n",
        "\n",
        "\n",
        "Faça um programa que calcule as raízes de uma equação do segundo grau, na forma ax2 + bx + c. O programa deverá pedir os valores de a, b e c e fazer as consistências, informando ao usuário nas seguintes situações:\n",
        "  - Se o usuário informar o valor de A igual a zero, a equação não é do segundo grau e o programa não deve fazer pedir os demais valores, sendo encerrado;\n",
        "  - Se o delta calculado for negativo, a equação não possui raizes reais. Informe ao usuário e encerre o programa;\n",
        "  - Se o delta calculado for igual a zero a equação possui apenas uma raiz real; informe-a ao usuário;\n",
        "  - Se o delta for positivo, a equação possui duas raiz reais; informe-as ao usuário;"
      ],
      "metadata": {
        "id": "6U_DVKit-EzC"
      }
    },
    {
      "cell_type": "code",
      "source": [
        "import math\n",
        "\n",
        "a = int(input(\"digite o valor de a: \"))\n",
        "\n",
        "if (a == 0):\n",
        "  print(\"não há equação do 2° grau, somente do primeiro, logo não terá conta.\")\n",
        "elif((a > 0) or (a < 0)):\n",
        "  b = int(input(\"digite o valor de b: \"))\n",
        "  c = int(input(\"digite o valor de c: \"))\n",
        "  delta = (b*b) - (4*a*c)\n",
        "  if(delta < 0):\n",
        "    print(\"Não há raiz real\")\n",
        "  elif (delta == 0):\n",
        "    x = (-b + math.sqrt(delta))/(2*a)\n",
        "    print(f\"Há raiz dupla sendo x = {x} \")\n",
        "  elif (delta > 0):\n",
        "    x1 = ((0-b) + math.sqrt(delta))/(2*a)\n",
        "    x2 = (-b - math.sqrt(delta))/(2*a)\n",
        "    print(f\"Há raiz dupla, e suas raízes são: x1 = {x1} e x2 = {x2} \")\n",
        "\n"
      ],
      "metadata": {
        "colab": {
          "base_uri": "https://localhost:8080/"
        },
        "id": "zXMc0miH-FGM",
        "outputId": "59ab5529-d33f-461f-d8da-38511e26fb6e"
      },
      "execution_count": 29,
      "outputs": [
        {
          "output_type": "stream",
          "name": "stdout",
          "text": [
            "digite o valor de a: 1\n",
            "digite o valor de b: -5\n",
            "digite o valor de c: 4\n",
            "Há raiz dupla, e suas raízes são: x1 = 4.0 e x2 = 1.0 \n"
          ]
        }
      ]
    },
    {
      "cell_type": "markdown",
      "source": [
        "# Exercício 17\n",
        "Crie um programa que receba um número e imprima \"Fizz\" se  o número for múltiplo de 3, \"Buzz\" se for múltiplo de 5 e \"FizzBuzz\" se for múltiplo de 3 e 5."
      ],
      "metadata": {
        "id": "77V5iTtZ9c0t"
      }
    },
    {
      "cell_type": "code",
      "source": [
        "numero = int(input(\"Digite um número inteiro: \"))\n",
        "\"\"\" o \"==\" entre as condicionais funciona como o E\"\"\"\n",
        "if (numero % 5 == numero % 3 == 0):\n",
        "  print(\"FizzBuzz\")\n",
        "elif (numero % 5 == 0):\n",
        "  print(\"Buzz\")\n",
        "elif (numero % 3 == 0):\n",
        "  print(\"Fizz\")\n",
        "else:\n",
        "  print(\"não é múltiplo entre 3 e 5\")"
      ],
      "metadata": {
        "id": "OkPz37vc9dNv",
        "colab": {
          "base_uri": "https://localhost:8080/"
        },
        "outputId": "6a44c8d9-e971-4903-d891-7c15dd3eef80"
      },
      "execution_count": null,
      "outputs": [
        {
          "output_type": "stream",
          "name": "stdout",
          "text": [
            "Digite um número inteiro: 15\n",
            "FizzBuzz\n"
          ]
        }
      ]
    },
    {
      "cell_type": "code",
      "source": [
        "numero = int(input(\"Digite um número inteiro: \"))\n",
        "\n",
        "if ((numero % 5 == 0) and (numero % 3 == 0)):\n",
        "  print(\"FizzBuzz\")\n",
        "elif (numero % 5 == 0):\n",
        "  print(\"Buzz\")\n",
        "elif (numero % 3 == 0):\n",
        "  print(\"Fizz\")\n",
        "else:\n",
        "  print(\"não é múltiplo entre 3 e 5\")"
      ],
      "metadata": {
        "id": "c53mQXyRvmOS"
      },
      "execution_count": null,
      "outputs": []
    },
    {
      "cell_type": "code",
      "source": [
        "2"
      ],
      "metadata": {
        "id": "mzabJFno1yE7"
      },
      "execution_count": null,
      "outputs": []
    },
    {
      "cell_type": "code",
      "source": [],
      "metadata": {
        "id": "IR4AdF5B39H3"
      },
      "execution_count": null,
      "outputs": []
    }
  ]
}